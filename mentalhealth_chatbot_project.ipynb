{
 "cells": [
  {
   "cell_type": "code",
   "execution_count": 1,
   "id": "fa33913c-fdd9-46be-89c1-ceeee57790f9",
   "metadata": {},
   "outputs": [],
   "source": [
    "# import the required libraries \n",
    "import json\n",
    "import numpy as np\n",
    "import tensorflow as tf\n",
    "from sklearn.preprocessing import LabelEncoder\n",
    "from tensorflow.keras.preprocessing.text import Tokenizer\n",
    "from tensorflow.keras.preprocessing.sequence import pad_sequences\n",
    "from tensorflow.keras.callbacks import EarlyStopping"
   ]
  },
  {
   "cell_type": "code",
   "execution_count": 2,
   "id": "d352c106-871d-4a40-8b04-6684e2b60ca9",
   "metadata": {},
   "outputs": [],
   "source": [
    "# Load the dataset\n",
    "with open('projectone.json') as file:\n",
    "    data = json.load(file)"
   ]
  },
  {
   "cell_type": "code",
   "execution_count": 4,
   "id": "92482b3f-b003-432c-a6d6-48df67252542",
   "metadata": {},
   "outputs": [
    {
     "name": "stdout",
     "output_type": "stream",
     "text": [
      "Sample patterns: ['Hi', 'Hey', 'Is anyone there?', 'Hi there', 'Hello']\n",
      "Sample tags: ['greeting', 'greeting', 'greeting', 'greeting', 'greeting']\n"
     ]
    }
   ],
   "source": [
    "# Extract patterns and tags\n",
    "patterns = []\n",
    "tags = []\n",
    "\n",
    "for intent in data['intents']:\n",
    "    for pattern in intent['patterns']:\n",
    "        patterns.append(pattern)\n",
    "        tags.append(intent['tag'])\n",
    "\n",
    "# Print sample patterns and tags to verify data\n",
    "print(f\"Sample patterns: {patterns[:5]}\")\n",
    "print(f\"Sample tags: {tags[:5]}\")"
   ]
  },
  {
   "cell_type": "code",
   "execution_count": 5,
   "id": "d9ee2426-3369-4024-8564-920c61a27fff",
   "metadata": {},
   "outputs": [
    {
     "name": "stdout",
     "output_type": "stream",
     "text": [
      "Classes: ['What are the types of depression?' 'about' 'afternoon' 'anxious' 'ask'\n",
      " 'at what age does anxiety peak?' 'breathing_exercises'\n",
      " 'can lack of sleep make you feel sad?'\n",
      " 'can low blood sugar cause suicidal thoughts?' 'casual' 'coping_anxiety'\n",
      " 'coping_depression' 'coping_stress' 'creation' 'death' 'default'\n",
      " 'definition_anxiety' 'definition_depression' 'definition_stress'\n",
      " 'depressed' 'do we control our thoughts?'\n",
      " 'does oversleeping cause depression?' 'done' 'emergency_help' 'evening'\n",
      " 'exercise' 'fact-1' 'fact-10' 'fact-11' 'fact-12' 'fact-13' 'fact-14'\n",
      " 'fact-15' 'fact-16' 'fact-17' 'fact-18' 'fact-19' 'fact-2' 'fact-20'\n",
      " 'fact-21' 'fact-22' 'fact-23' 'fact-24' 'fact-25' 'fact-26' 'fact-27'\n",
      " 'fact-28' 'fact-29' 'fact-3' 'fact-30' 'fact-31' 'fact-32' 'fact-5'\n",
      " 'fact-6' 'fact-7' 'fact-8' 'fact-9' 'friends' 'goodbye' 'greeting'\n",
      " 'happy' 'hate-me' 'hate-you' 'help' 'how can we reduce anxiety?'\n",
      " 'how does depression affect the world?' 'how long can anxiety last?'\n",
      " 'how many thoughts a day do we have?' 'i am a victim of bullying'\n",
      " 'i am afraid i will fail again'\n",
      " 'i am afraid to file a case against bullying'\n",
      " 'i am feeling anxious lately.' 'i am feeling stressed lately'\n",
      " 'i am good for nothing!' 'i am good for nothing.' 'i am lonely!'\n",
      " 'i am sad' 'i am stressed out' \"i can't do this anymore\"\n",
      " 'i feel i have let my parents down' 'i hate losing.' 'i hate myself!'\n",
      " 'i let everyojokne down' 'i let everyone down' 'i think i am ugly!'\n",
      " \"i think i'm losing my mind\" 'i want a break' 'i want to kill myself'\n",
      " 'i want to leave the cou ntry and run away'\n",
      " 'i want to leave the country and run away' 'i will never succeed in life'\n",
      " \"i wish i could've been a winner\" 'i wish i was better than them'\n",
      " 'i wish to quit' 'is depression a side effect of diabetes?'\n",
      " 'is school a cause of depression?' 'jamila-useful' 'jokes'\n",
      " 'learn-mental-health' 'learn-more' 'lifestyle_changes' 'location'\n",
      " 'medication' 'meditation' 'mental-health-fact' 'mindfulness' 'morning'\n",
      " 'my time has come' 'neutral-response' 'night' 'no one likes me!'\n",
      " 'no-approach' 'no-response' 'not-talking' 'nutrition' 'problem' 'repeat'\n",
      " 'sad' 'scared' 'self_help' 'signs_anxiety' 'signs_depression'\n",
      " 'signs_stress' 'skill' 'sleep' 'social_support' 'something-else'\n",
      " 'stressed' 'stupid' 'suicide' 'thanks' 'therapy' 'understand'\n",
      " 'user-advice' 'user-agree' 'user-meditation'\n",
      " 'what are the causes of depression?' 'what are the stages of anxiety?'\n",
      " 'what are the top causes of depression?' 'what is depression?'\n",
      " 'what is the 3 3 3 rule for anxiety?'\n",
      " 'what is the biological cause of depression?'\n",
      " 'what is the meaning of anxiety and depression?'\n",
      " 'which age group has the highest rate of depression?'\n",
      " 'which country has the highest rate of depression?'\n",
      " 'which country has the lowest rate of depression?'\n",
      " 'which race has the highest rate of depression?'\n",
      " 'why is anxiety bad for you?' 'worthless' 'wrong']\n"
     ]
    }
   ],
   "source": [
    "# Encode the tags\n",
    "label_encoder = LabelEncoder()\n",
    "labels = label_encoder.fit_transform(tags)\n",
    "\n",
    "# Print label classes to verify encoding\n",
    "print(f\"Classes: {label_encoder.classes_}\")"
   ]
  },
  {
   "cell_type": "code",
   "execution_count": 6,
   "id": "0313a0ef-5069-44be-aeb7-58422fb2338d",
   "metadata": {},
   "outputs": [
    {
     "name": "stdout",
     "output_type": "stream",
     "text": [
      "Sample sequences: [[203], [204], [14, 188, 83], [203, 83], [366]]\n"
     ]
    }
   ],
   "source": [
    "# Tokenize the patterns\n",
    "tokenizer = Tokenizer(oov_token=\"<OOV>\")\n",
    "tokenizer.fit_on_texts(patterns)\n",
    "sequences = tokenizer.texts_to_sequences(patterns)\n",
    "\n",
    "# Print sample sequences to verify tokenization\n",
    "print(f\"Sample sequences: {sequences[:5]}\")"
   ]
  },
  {
   "cell_type": "code",
   "execution_count": 7,
   "id": "76eb918a-ca31-44e6-a15e-81652f35d028",
   "metadata": {},
   "outputs": [
    {
     "name": "stdout",
     "output_type": "stream",
     "text": [
      "Sample padded sequences: [[203   0   0   0   0   0   0   0   0   0   0   0   0   0   0   0   0   0\n",
      "    0   0]\n",
      " [204   0   0   0   0   0   0   0   0   0   0   0   0   0   0   0   0   0\n",
      "    0   0]\n",
      " [ 14 188  83   0   0   0   0   0   0   0   0   0   0   0   0   0   0   0\n",
      "    0   0]\n",
      " [203  83   0   0   0   0   0   0   0   0   0   0   0   0   0   0   0   0\n",
      "    0   0]\n",
      " [366   0   0   0   0   0   0   0   0   0   0   0   0   0   0   0   0   0\n",
      "    0   0]]\n"
     ]
    }
   ],
   "source": [
    "padded_sequences = pad_sequences(sequences, padding='post', maxlen=20)  # Adjust maxlen if needed\n",
    "\n",
    "# Print sample padded sequences to verify padding\n",
    "print(f\"Sample padded sequences: {padded_sequences[:5]}\")"
   ]
  },
  {
   "cell_type": "code",
   "execution_count": 8,
   "id": "0b7867f1-8be5-4f27-bc61-2eeddb5e7b67",
   "metadata": {},
   "outputs": [],
   "source": [
    "# Get the vocabulary size\n",
    "vocab_size = len(tokenizer.word_index) + 1\n",
    "\n",
    "# Get the number of classes\n",
    "num_classes = len(label_encoder.classes_)"
   ]
  },
  {
   "cell_type": "code",
   "execution_count": 9,
   "id": "a180fd37-3e08-4de8-91b9-d2f1864ab3d3",
   "metadata": {},
   "outputs": [
    {
     "name": "stderr",
     "output_type": "stream",
     "text": [
      "C:\\janet\\Lib\\site-packages\\keras\\src\\layers\\core\\embedding.py:90: UserWarning: Argument `input_length` is deprecated. Just remove it.\n",
      "  warnings.warn(\n"
     ]
    },
    {
     "data": {
      "text/html": [
       "<pre style=\"white-space:pre;overflow-x:auto;line-height:normal;font-family:Menlo,'DejaVu Sans Mono',consolas,'Courier New',monospace\"><span style=\"font-weight: bold\">Model: \"sequential\"</span>\n",
       "</pre>\n"
      ],
      "text/plain": [
       "\u001b[1mModel: \"sequential\"\u001b[0m\n"
      ]
     },
     "metadata": {},
     "output_type": "display_data"
    },
    {
     "data": {
      "text/html": [
       "<pre style=\"white-space:pre;overflow-x:auto;line-height:normal;font-family:Menlo,'DejaVu Sans Mono',consolas,'Courier New',monospace\">┏━━━━━━━━━━━━━━━━━━━━━━━━━━━━━━━━━━━━━━┳━━━━━━━━━━━━━━━━━━━━━━━━━━━━━┳━━━━━━━━━━━━━━━━━┓\n",
       "┃<span style=\"font-weight: bold\"> Layer (type)                         </span>┃<span style=\"font-weight: bold\"> Output Shape                </span>┃<span style=\"font-weight: bold\">         Param # </span>┃\n",
       "┡━━━━━━━━━━━━━━━━━━━━━━━━━━━━━━━━━━━━━━╇━━━━━━━━━━━━━━━━━━━━━━━━━━━━━╇━━━━━━━━━━━━━━━━━┩\n",
       "│ embedding (<span style=\"color: #0087ff; text-decoration-color: #0087ff\">Embedding</span>)                │ ?                           │     <span style=\"color: #00af00; text-decoration-color: #00af00\">0</span> (unbuilt) │\n",
       "├──────────────────────────────────────┼─────────────────────────────┼─────────────────┤\n",
       "│ bidirectional (<span style=\"color: #0087ff; text-decoration-color: #0087ff\">Bidirectional</span>)        │ ?                           │     <span style=\"color: #00af00; text-decoration-color: #00af00\">0</span> (unbuilt) │\n",
       "├──────────────────────────────────────┼─────────────────────────────┼─────────────────┤\n",
       "│ bidirectional_1 (<span style=\"color: #0087ff; text-decoration-color: #0087ff\">Bidirectional</span>)      │ ?                           │     <span style=\"color: #00af00; text-decoration-color: #00af00\">0</span> (unbuilt) │\n",
       "├──────────────────────────────────────┼─────────────────────────────┼─────────────────┤\n",
       "│ dense (<span style=\"color: #0087ff; text-decoration-color: #0087ff\">Dense</span>)                        │ ?                           │     <span style=\"color: #00af00; text-decoration-color: #00af00\">0</span> (unbuilt) │\n",
       "├──────────────────────────────────────┼─────────────────────────────┼─────────────────┤\n",
       "│ dropout (<span style=\"color: #0087ff; text-decoration-color: #0087ff\">Dropout</span>)                    │ ?                           │     <span style=\"color: #00af00; text-decoration-color: #00af00\">0</span> (unbuilt) │\n",
       "├──────────────────────────────────────┼─────────────────────────────┼─────────────────┤\n",
       "│ dense_1 (<span style=\"color: #0087ff; text-decoration-color: #0087ff\">Dense</span>)                      │ ?                           │     <span style=\"color: #00af00; text-decoration-color: #00af00\">0</span> (unbuilt) │\n",
       "└──────────────────────────────────────┴─────────────────────────────┴─────────────────┘\n",
       "</pre>\n"
      ],
      "text/plain": [
       "┏━━━━━━━━━━━━━━━━━━━━━━━━━━━━━━━━━━━━━━┳━━━━━━━━━━━━━━━━━━━━━━━━━━━━━┳━━━━━━━━━━━━━━━━━┓\n",
       "┃\u001b[1m \u001b[0m\u001b[1mLayer (type)                        \u001b[0m\u001b[1m \u001b[0m┃\u001b[1m \u001b[0m\u001b[1mOutput Shape               \u001b[0m\u001b[1m \u001b[0m┃\u001b[1m \u001b[0m\u001b[1m        Param #\u001b[0m\u001b[1m \u001b[0m┃\n",
       "┡━━━━━━━━━━━━━━━━━━━━━━━━━━━━━━━━━━━━━━╇━━━━━━━━━━━━━━━━━━━━━━━━━━━━━╇━━━━━━━━━━━━━━━━━┩\n",
       "│ embedding (\u001b[38;5;33mEmbedding\u001b[0m)                │ ?                           │     \u001b[38;5;34m0\u001b[0m (unbuilt) │\n",
       "├──────────────────────────────────────┼─────────────────────────────┼─────────────────┤\n",
       "│ bidirectional (\u001b[38;5;33mBidirectional\u001b[0m)        │ ?                           │     \u001b[38;5;34m0\u001b[0m (unbuilt) │\n",
       "├──────────────────────────────────────┼─────────────────────────────┼─────────────────┤\n",
       "│ bidirectional_1 (\u001b[38;5;33mBidirectional\u001b[0m)      │ ?                           │     \u001b[38;5;34m0\u001b[0m (unbuilt) │\n",
       "├──────────────────────────────────────┼─────────────────────────────┼─────────────────┤\n",
       "│ dense (\u001b[38;5;33mDense\u001b[0m)                        │ ?                           │     \u001b[38;5;34m0\u001b[0m (unbuilt) │\n",
       "├──────────────────────────────────────┼─────────────────────────────┼─────────────────┤\n",
       "│ dropout (\u001b[38;5;33mDropout\u001b[0m)                    │ ?                           │     \u001b[38;5;34m0\u001b[0m (unbuilt) │\n",
       "├──────────────────────────────────────┼─────────────────────────────┼─────────────────┤\n",
       "│ dense_1 (\u001b[38;5;33mDense\u001b[0m)                      │ ?                           │     \u001b[38;5;34m0\u001b[0m (unbuilt) │\n",
       "└──────────────────────────────────────┴─────────────────────────────┴─────────────────┘\n"
      ]
     },
     "metadata": {},
     "output_type": "display_data"
    },
    {
     "data": {
      "text/html": [
       "<pre style=\"white-space:pre;overflow-x:auto;line-height:normal;font-family:Menlo,'DejaVu Sans Mono',consolas,'Courier New',monospace\"><span style=\"font-weight: bold\"> Total params: </span><span style=\"color: #00af00; text-decoration-color: #00af00\">0</span> (0.00 B)\n",
       "</pre>\n"
      ],
      "text/plain": [
       "\u001b[1m Total params: \u001b[0m\u001b[38;5;34m0\u001b[0m (0.00 B)\n"
      ]
     },
     "metadata": {},
     "output_type": "display_data"
    },
    {
     "data": {
      "text/html": [
       "<pre style=\"white-space:pre;overflow-x:auto;line-height:normal;font-family:Menlo,'DejaVu Sans Mono',consolas,'Courier New',monospace\"><span style=\"font-weight: bold\"> Trainable params: </span><span style=\"color: #00af00; text-decoration-color: #00af00\">0</span> (0.00 B)\n",
       "</pre>\n"
      ],
      "text/plain": [
       "\u001b[1m Trainable params: \u001b[0m\u001b[38;5;34m0\u001b[0m (0.00 B)\n"
      ]
     },
     "metadata": {},
     "output_type": "display_data"
    },
    {
     "data": {
      "text/html": [
       "<pre style=\"white-space:pre;overflow-x:auto;line-height:normal;font-family:Menlo,'DejaVu Sans Mono',consolas,'Courier New',monospace\"><span style=\"font-weight: bold\"> Non-trainable params: </span><span style=\"color: #00af00; text-decoration-color: #00af00\">0</span> (0.00 B)\n",
       "</pre>\n"
      ],
      "text/plain": [
       "\u001b[1m Non-trainable params: \u001b[0m\u001b[38;5;34m0\u001b[0m (0.00 B)\n"
      ]
     },
     "metadata": {},
     "output_type": "display_data"
    }
   ],
   "source": [
    "# Build the model\n",
    "model = tf.keras.models.Sequential([\n",
    "    tf.keras.layers.Embedding(vocab_size, 32, input_length=padded_sequences.shape[1]),\n",
    "    tf.keras.layers.Bidirectional(tf.keras.layers.LSTM(128, return_sequences=True)),\n",
    "    tf.keras.layers.Bidirectional(tf.keras.layers.LSTM(64)),\n",
    "    tf.keras.layers.Dense(64, activation='relu'),\n",
    "    tf.keras.layers.Dropout(0.5),\n",
    "    tf.keras.layers.Dense(num_classes, activation='softmax')\n",
    "])\n",
    "\n",
    "model.compile(optimizer=tf.keras.optimizers.Adam(learning_rate=0.001), loss='sparse_categorical_crossentropy', metrics=['accuracy'])\n",
    "\n",
    "model.summary()"
   ]
  },
  {
   "cell_type": "code",
   "execution_count": 10,
   "id": "b9446bc3-36c5-4dbb-9171-4c914b56fda1",
   "metadata": {},
   "outputs": [],
   "source": [
    "# Split the data into training and validation sets\n",
    "training_size = int(len(padded_sequences) * 0.8)\n",
    "x_train = padded_sequences[:training_size]\n",
    "y_train = labels[:training_size]\n",
    "x_val = padded_sequences[training_size:]\n",
    "y_val = labels[training_size:]"
   ]
  },
  {
   "cell_type": "code",
   "execution_count": 11,
   "id": "0027d2d6-3de5-4407-b30e-7dceb03e0573",
   "metadata": {},
   "outputs": [
    {
     "name": "stdout",
     "output_type": "stream",
     "text": [
      "x_train shape: (482, 20)\n",
      "y_train shape: (482,)\n",
      "x_val shape: (121, 20)\n",
      "y_val shape: (121,)\n"
     ]
    }
   ],
   "source": [
    "# Print shapes of training and validation sets to verify\n",
    "print(f\"x_train shape: {x_train.shape}\")\n",
    "print(f\"y_train shape: {y_train.shape}\")\n",
    "print(f\"x_val shape: {x_val.shape}\")\n",
    "print(f\"y_val shape: {y_val.shape}\")"
   ]
  },
  {
   "cell_type": "code",
   "execution_count": 12,
   "id": "83336b55-9472-4d22-a795-0fe7152202ca",
   "metadata": {},
   "outputs": [],
   "source": [
    "# Early stopping callback\n",
    "early_stopping = EarlyStopping(monitor='val_loss', patience=10, restore_best_weights=True)"
   ]
  },
  {
   "cell_type": "code",
   "execution_count": 14,
   "id": "c615b97e-3543-47db-acee-9c64b86a441d",
   "metadata": {},
   "outputs": [
    {
     "name": "stdout",
     "output_type": "stream",
     "text": [
      "Epoch 1/200\n",
      "\u001b[1m31/31\u001b[0m \u001b[32m━━━━━━━━━━━━━━━━━━━━\u001b[0m\u001b[37m\u001b[0m \u001b[1m2s\u001b[0m 56ms/step - accuracy: 0.8742 - loss: 0.4547 - val_accuracy: 0.8512 - val_loss: 2.1590\n",
      "Epoch 2/200\n",
      "\u001b[1m31/31\u001b[0m \u001b[32m━━━━━━━━━━━━━━━━━━━━\u001b[0m\u001b[37m\u001b[0m \u001b[1m2s\u001b[0m 51ms/step - accuracy: 0.8149 - loss: 0.5254 - val_accuracy: 0.8430 - val_loss: 2.1653\n",
      "Epoch 3/200\n",
      "\u001b[1m31/31\u001b[0m \u001b[32m━━━━━━━━━━━━━━━━━━━━\u001b[0m\u001b[37m\u001b[0m \u001b[1m2s\u001b[0m 60ms/step - accuracy: 0.8913 - loss: 0.3521 - val_accuracy: 0.8430 - val_loss: 2.1948\n",
      "Epoch 4/200\n",
      "\u001b[1m31/31\u001b[0m \u001b[32m━━━━━━━━━━━━━━━━━━━━\u001b[0m\u001b[37m\u001b[0m \u001b[1m2s\u001b[0m 57ms/step - accuracy: 0.8948 - loss: 0.3821 - val_accuracy: 0.8595 - val_loss: 2.1715\n",
      "Epoch 5/200\n",
      "\u001b[1m31/31\u001b[0m \u001b[32m━━━━━━━━━━━━━━━━━━━━\u001b[0m\u001b[37m\u001b[0m \u001b[1m2s\u001b[0m 51ms/step - accuracy: 0.8739 - loss: 0.4272 - val_accuracy: 0.8347 - val_loss: 2.2002\n",
      "Epoch 6/200\n",
      "\u001b[1m31/31\u001b[0m \u001b[32m━━━━━━━━━━━━━━━━━━━━\u001b[0m\u001b[37m\u001b[0m \u001b[1m2s\u001b[0m 51ms/step - accuracy: 0.8955 - loss: 0.4223 - val_accuracy: 0.8430 - val_loss: 2.1973\n",
      "Epoch 7/200\n",
      "\u001b[1m31/31\u001b[0m \u001b[32m━━━━━━━━━━━━━━━━━━━━\u001b[0m\u001b[37m\u001b[0m \u001b[1m2s\u001b[0m 51ms/step - accuracy: 0.8946 - loss: 0.3684 - val_accuracy: 0.8347 - val_loss: 2.2156\n",
      "Epoch 8/200\n",
      "\u001b[1m31/31\u001b[0m \u001b[32m━━━━━━━━━━━━━━━━━━━━\u001b[0m\u001b[37m\u001b[0m \u001b[1m2s\u001b[0m 51ms/step - accuracy: 0.9028 - loss: 0.3365 - val_accuracy: 0.8430 - val_loss: 2.2564\n",
      "Epoch 9/200\n",
      "\u001b[1m31/31\u001b[0m \u001b[32m━━━━━━━━━━━━━━━━━━━━\u001b[0m\u001b[37m\u001b[0m \u001b[1m2s\u001b[0m 51ms/step - accuracy: 0.9123 - loss: 0.2771 - val_accuracy: 0.8430 - val_loss: 2.2510\n",
      "Epoch 10/200\n",
      "\u001b[1m31/31\u001b[0m \u001b[32m━━━━━━━━━━━━━━━━━━━━\u001b[0m\u001b[37m\u001b[0m \u001b[1m2s\u001b[0m 51ms/step - accuracy: 0.9021 - loss: 0.3484 - val_accuracy: 0.8430 - val_loss: 2.2614\n",
      "4/4 - 0s - 36ms/step - accuracy: 0.8512 - loss: 2.1590\n",
      "Validation accuracy: 85.12%\n"
     ]
    }
   ],
   "source": [
    "# Train the model\n",
    "history = model.fit(x_train, y_train, epochs=200, batch_size=16, validation_data=(x_val, y_val), callbacks=[early_stopping])\n",
    "\n",
    "# Evaluate the model on the validation set\n",
    "val_loss, val_accuracy = model.evaluate(x_val, y_val, verbose=2)\n",
    "print(f\"Validation accuracy: {val_accuracy * 100:.2f}%\")\n",
    "# print(f\"Validation loss: {val_loss:.2f}\")"
   ]
  },
  {
   "cell_type": "markdown",
   "id": "e05a84cd-5367-4791-9711-8158ffc20901",
   "metadata": {},
   "source": [
    "Chatbot Running Section"
   ]
  },
  {
   "cell_type": "code",
   "execution_count": 15,
   "id": "fddd7fe0-7b30-4100-a045-81aad5193d18",
   "metadata": {},
   "outputs": [],
   "source": [
    "# Function to preprocess user input\n",
    "def preprocess_input(text):\n",
    "    sequence = tokenizer.texts_to_sequences([text])\n",
    "    padded_sequence = pad_sequences(sequence, maxlen=20, padding='post')\n",
    "    return padded_sequence"
   ]
  },
  {
   "cell_type": "code",
   "execution_count": 16,
   "id": "d28babee-59a1-41f3-9709-3f9c6204e55f",
   "metadata": {},
   "outputs": [],
   "source": [
    "# Function to generate chatbot response\n",
    "def generate_response(text):\n",
    "    padded_sequence = preprocess_input(text)\n",
    "    prediction = model.predict(padded_sequence)\n",
    "    predicted_label = label_encoder.inverse_transform([np.argmax(prediction)])\n",
    "    confidence = np.max(prediction)\n",
    "\n",
    "    # Set a confidence threshold\n",
    "    confidence_threshold = 0.6\n",
    "\n",
    "    if confidence < confidence_threshold:\n",
    "        return \"I'm sorry, I didn't understand that. Could you please rephrase?\"\n",
    "    else:\n",
    "        for intent in data['intents']:\n",
    "            if intent['tag'] == predicted_label:\n",
    "                return np.random.choice(intent['responses'])"
   ]
  },
  {
   "cell_type": "code",
   "execution_count": null,
   "id": "9b0d2c2d-c84a-46cd-85df-146df1a5582c",
   "metadata": {},
   "outputs": [
    {
     "name": "stdout",
     "output_type": "stream",
     "text": [
      "Start chatting with mental health chatbot (type 'quit' to stop)!\n"
     ]
    },
    {
     "name": "stdin",
     "output_type": "stream",
     "text": [
      "You:  Hello\n"
     ]
    },
    {
     "name": "stdout",
     "output_type": "stream",
     "text": [
      "\u001b[1m1/1\u001b[0m \u001b[32m━━━━━━━━━━━━━━━━━━━━\u001b[0m\u001b[37m\u001b[0m \u001b[1m0s\u001b[0m 64ms/step\n",
      "Bot: Hello there. Glad to see you're back. What's going on in your world right now?\n"
     ]
    },
    {
     "name": "stdin",
     "output_type": "stream",
     "text": [
      "You:  who are you?\n"
     ]
    },
    {
     "name": "stdout",
     "output_type": "stream",
     "text": [
      "\u001b[1m1/1\u001b[0m \u001b[32m━━━━━━━━━━━━━━━━━━━━\u001b[0m\u001b[37m\u001b[0m \u001b[1m0s\u001b[0m 63ms/step\n",
      "Bot: I'm HopeSoon!\n"
     ]
    }
   ],
   "source": [
    "# Run the chatbot\n",
    "print(\"Start chatting with mental health chatbot (type 'quit' to stop)!\")\n",
    "while True:\n",
    "    user_input = input(\"You: \")\n",
    "    if user_input.lower() == 'quit':\n",
    "        break\n",
    "    response = generate_response(user_input)\n",
    "    print(f\"Bot: {response}\")"
   ]
  },
  {
   "cell_type": "code",
   "execution_count": null,
   "id": "c92f5e28-5c62-4c0e-a8f4-5c11cd7815b3",
   "metadata": {},
   "outputs": [],
   "source": []
  }
 ],
 "metadata": {
  "kernelspec": {
   "display_name": "Python 3 (ipykernel)",
   "language": "python",
   "name": "python3"
  },
  "language_info": {
   "codemirror_mode": {
    "name": "ipython",
    "version": 3
   },
   "file_extension": ".py",
   "mimetype": "text/x-python",
   "name": "python",
   "nbconvert_exporter": "python",
   "pygments_lexer": "ipython3",
   "version": "3.12.2"
  }
 },
 "nbformat": 4,
 "nbformat_minor": 5
}
